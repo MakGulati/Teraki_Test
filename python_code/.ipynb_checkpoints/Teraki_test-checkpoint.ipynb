{
 "cells": [
  {
   "cell_type": "code",
   "execution_count": 1,
   "metadata": {},
   "outputs": [
    {
     "name": "stdout",
     "output_type": "stream",
     "text": [
      "Requirement already satisfied: interruptingcow in /Users/mayank/anaconda3/envs/torch_planet/lib/python3.7/site-packages (0.8)\r\n"
     ]
    }
   ],
   "source": [
    "!pip install interruptingcow"
   ]
  },
  {
   "cell_type": "code",
   "execution_count": 2,
   "metadata": {},
   "outputs": [],
   "source": [
    "import numpy as np #basic imports\n",
    "import queue\n",
    "from interruptingcow import timeout #for timeout exception"
   ]
  },
  {
   "cell_type": "markdown",
   "metadata": {},
   "source": [
    "**This method checks for permuation of characters**"
   ]
  },
  {
   "cell_type": "code",
   "execution_count": 3,
   "metadata": {},
   "outputs": [],
   "source": [
    "def permute_check(s1,s2):\n",
    "    if len(s1)!= len(s2):\n",
    "        return(False)\n",
    "    elif (sorted(s1) == sorted(s2)):\n",
    "        return(True)\n",
    "    else:\n",
    "        return(False)"
   ]
  },
  {
   "cell_type": "code",
   "execution_count": 4,
   "metadata": {},
   "outputs": [
    {
     "data": {
      "text/plain": [
       "(True, True, False)"
      ]
     },
     "execution_count": 4,
     "metadata": {},
     "output_type": "execute_result"
    }
   ],
   "source": [
    "permute_check(\"aman\",\"mana\"),permute_check(\"qwerty\",\"wqeyrt\"),permute_check(\"aab\",\"bba\")"
   ]
  },
  {
   "cell_type": "markdown",
   "metadata": {},
   "source": [
    "**Chessboard problem is done through breadth first search algorithm:** <br />\n",
    "It is done using queues.It tries to check all the neighbours at different nodes hence it is not memory efficient but gives optimal shortest path."
   ]
  },
  {
   "cell_type": "code",
   "execution_count": 4,
   "metadata": {},
   "outputs": [],
   "source": [
    "chessboard = np.array([[0,1,1,0,0,0,0,1],[0,1,1,0,0,0,0,1],[0,0,0,0,1,0,0,1],[0,1,1,0,1,0,0,1],[0,1,1,0,0,0,0,1],[0,1,1,0,0,0,0,1],[0,0,0,0,1,0,0,1],[0,1,1,0,1,0,0,0]])"
   ]
  },
  {
   "cell_type": "code",
   "execution_count": 5,
   "metadata": {},
   "outputs": [],
   "source": [
    "chessboard1 = np.array([[0,1,1,0,0,0,0,1],[0,1,1,0,0,0,0,1],[0,0,0,0,1,0,0,1],[0,1,1,0,1,0,0,1],[0,1,1,0,0,0,0,1],[0,1,1,0,0,0,0,1],[0,0,0,0,1,0,0,1],[0,1,1,0,1,0,0,2]])"
   ]
  },
  {
   "cell_type": "code",
   "execution_count": 6,
   "metadata": {},
   "outputs": [
    {
     "data": {
      "text/plain": [
       "array([[0, 1, 1, 0, 0, 0, 0, 1],\n",
       "       [0, 1, 1, 0, 0, 0, 0, 1],\n",
       "       [0, 0, 0, 0, 1, 0, 0, 1],\n",
       "       [0, 1, 1, 0, 1, 0, 0, 1],\n",
       "       [0, 1, 1, 0, 0, 0, 0, 1],\n",
       "       [0, 1, 1, 0, 0, 0, 0, 1],\n",
       "       [0, 0, 0, 0, 1, 0, 0, 1],\n",
       "       [0, 1, 1, 0, 1, 0, 0, 0]])"
      ]
     },
     "execution_count": 6,
     "metadata": {},
     "output_type": "execute_result"
    }
   ],
   "source": [
    "chessboard"
   ]
  },
  {
   "cell_type": "code",
   "execution_count": 7,
   "metadata": {},
   "outputs": [
    {
     "data": {
      "text/plain": [
       "array([[0, 1, 1, 0, 0, 0, 0, 1],\n",
       "       [0, 1, 1, 0, 0, 0, 0, 1],\n",
       "       [0, 0, 0, 0, 1, 0, 0, 1],\n",
       "       [0, 1, 1, 0, 1, 0, 0, 1],\n",
       "       [0, 1, 1, 0, 0, 0, 0, 1],\n",
       "       [0, 1, 1, 0, 0, 0, 0, 1],\n",
       "       [0, 0, 0, 0, 1, 0, 0, 1],\n",
       "       [0, 1, 1, 0, 1, 0, 0, 2]])"
      ]
     },
     "execution_count": 7,
     "metadata": {},
     "output_type": "execute_result"
    }
   ],
   "source": [
    "chessboard1"
   ]
  },
  {
   "cell_type": "code",
   "execution_count": 8,
   "metadata": {},
   "outputs": [
    {
     "data": {
      "text/plain": [
       "(8, 8)"
      ]
     },
     "execution_count": 8,
     "metadata": {},
     "output_type": "execute_result"
    }
   ],
   "source": [
    "chessboard.shape"
   ]
  },
  {
   "cell_type": "code",
   "execution_count": 9,
   "metadata": {},
   "outputs": [],
   "source": [
    "def valid(maze, moves): \n",
    "#this function checks for valid moves outof left, right, up and down\n",
    "    \n",
    "    start = 0\n",
    "\n",
    "    i = start\n",
    "    j = 0\n",
    "    for move in moves:\n",
    "        if move == \"L\":\n",
    "            i -= 1\n",
    "\n",
    "        elif move == \"R\":\n",
    "            i += 1\n",
    "\n",
    "        elif move == \"U\":\n",
    "            j -= 1\n",
    "\n",
    "        elif move == \"D\":\n",
    "            j += 1\n",
    "\n",
    "        if not(0 <= i < len(maze[0]) and 0 <= j < len(maze)):\n",
    "            return False\n",
    "        elif (maze[j][i] == 1):\n",
    "            return False\n",
    "\n",
    "    return True"
   ]
  },
  {
   "cell_type": "code",
   "execution_count": 10,
   "metadata": {},
   "outputs": [],
   "source": [
    "def findEnd(maze, moves):\n",
    "#this function check it end goal is reached\n",
    "    start = 0\n",
    "    i = start\n",
    "    j = 0\n",
    "    for move in moves:\n",
    "        if move == \"L\":\n",
    "            i -= 1\n",
    "\n",
    "        elif move == \"R\":\n",
    "            i += 1\n",
    "\n",
    "        elif move == \"U\":\n",
    "            j -= 1\n",
    "\n",
    "        elif move == \"D\":\n",
    "            j += 1\n",
    "\n",
    "    if maze[j][i] == 2: #for goal state \n",
    "        print(\"Found: \" + moves + \" and length of shortest path: \" + str(len(moves)))\n",
    "\n",
    "        return True\n",
    "\n",
    "    return False"
   ]
  },
  {
   "cell_type": "code",
   "execution_count": 11,
   "metadata": {},
   "outputs": [
    {
     "name": "stdout",
     "output_type": "stream",
     "text": [
      "Found: DDRRRDDRRRDDDR and length of shortest path: 14\n"
     ]
    }
   ],
   "source": [
    "nums = queue.Queue()\n",
    "nums.put(\"\")\n",
    "add = \"\"\n",
    "maze = chessboard1 #chessboard\n",
    "\n",
    "try:\n",
    "    with timeout(60*1, exception=RuntimeError): #timeout of 1 minute\n",
    "        while not findEnd(maze, add): #it loops until goal is reached\n",
    "            add = nums.get()\n",
    "        #     print(add)\n",
    "            for j in [\"L\", \"R\", \"U\", \"D\"]:\n",
    "                put = add + j\n",
    "                if valid(maze, put): \n",
    "                    #checks for valid moves if it is then loads to the queue\n",
    "                    nums.put(put)\n",
    "        \n",
    "except RuntimeError:\n",
    "    print(-1)\n",
    "\n",
    "\n",
    "\n"
   ]
  },
  {
   "cell_type": "code",
   "execution_count": 1,
   "metadata": {},
   "outputs": [],
   "source": [
    "import torch\n",
    "import torch.nn as nn\n",
    "import torchvision\n",
    "import torchvision.transforms as transforms\n",
    "from torchsummary import summary\n"
   ]
  },
  {
   "cell_type": "code",
   "execution_count": 2,
   "metadata": {},
   "outputs": [],
   "source": [
    "input_size = 20\n",
    "hidden_size1 = 10\n",
    "hidden_size2 = 5\n",
    "num_classes = 2"
   ]
  },
  {
   "cell_type": "code",
   "execution_count": 3,
   "metadata": {},
   "outputs": [],
   "source": [
    "class NeuralNet(nn.Module):\n",
    "    def __init__(self, input_size, hidden_size1, hidden_size2, num_classes):\n",
    "        super(NeuralNet, self).__init__()\n",
    "        self.fc1 = nn.Linear(input_size, hidden_size1) \n",
    "        self.relu = nn.ReLU()\n",
    "        self.fc2 = nn.Linear(hidden_size1, hidden_size2)  \n",
    "        self.fc3 = nn.Linear(hidden_size2, num_classes)\n",
    "        self.sigmoid = nn.Sigmoid()\n",
    "    \n",
    "    def forward(self, x):\n",
    "        out = self.fc1(x)\n",
    "        out = self.relu(out)\n",
    "        out = self.fc2(out)\n",
    "        out = self.relu(out)\n",
    "        out = self.fc3(out)\n",
    "        out = self.sigmoid(out)\n",
    "        return out"
   ]
  },
  {
   "cell_type": "code",
   "execution_count": 4,
   "metadata": {},
   "outputs": [
    {
     "data": {
      "text/plain": [
       "NeuralNet(\n",
       "  (fc1): Linear(in_features=20, out_features=10, bias=True)\n",
       "  (relu): ReLU()\n",
       "  (fc2): Linear(in_features=10, out_features=5, bias=True)\n",
       "  (fc3): Linear(in_features=5, out_features=2, bias=True)\n",
       "  (sigmoid): Sigmoid()\n",
       ")"
      ]
     },
     "execution_count": 4,
     "metadata": {},
     "output_type": "execute_result"
    }
   ],
   "source": [
    "model = NeuralNet(input_size, hidden_size1, hidden_size2, num_classes)\n",
    "model"
   ]
  },
  {
   "cell_type": "code",
   "execution_count": 5,
   "metadata": {},
   "outputs": [
    {
     "name": "stdout",
     "output_type": "stream",
     "text": [
      "----------------------------------------------------------------\n",
      "        Layer (type)               Output Shape         Param #\n",
      "================================================================\n",
      "            Linear-1            [-1, 10000, 10]             210\n",
      "              ReLU-2            [-1, 10000, 10]               0\n",
      "            Linear-3             [-1, 10000, 5]              55\n",
      "              ReLU-4             [-1, 10000, 5]               0\n",
      "            Linear-5             [-1, 10000, 2]              12\n",
      "           Sigmoid-6             [-1, 10000, 2]               0\n",
      "================================================================\n",
      "Total params: 277\n",
      "Trainable params: 277\n",
      "Non-trainable params: 0\n",
      "----------------------------------------------------------------\n",
      "Input size (MB): 0.76\n",
      "Forward/backward pass size (MB): 2.59\n",
      "Params size (MB): 0.00\n",
      "Estimated Total Size (MB): 3.36\n",
      "----------------------------------------------------------------\n"
     ]
    }
   ],
   "source": [
    "summary(model, (10000,20)) #arbitary given no. of data points"
   ]
  },
  {
   "cell_type": "markdown",
   "metadata": {},
   "source": [
    "According to this equation $ y = w^{T}x+ b$. <br />\n",
    "shape of $w_{12}$(between input layer and hidden 1) is $20\\times10$ and shape of bias is $w_{12}$(between input layer and hidden 1) is $10\\times1$ hence no. of trainable parameters from Linear-1 is $200+10$. Similarly for between hidden1 and hidden 2 shapes are $w_{23}$: $10\\times5$ and $b_{23}$: $5\\times1$ respectively with no. of trainable parameters = $50+5=55$. Following same reasoning shapes are $w_{34}$: $5\\times2$ and $b_{34}$: $2\\times1$ respectively with no. of trainable parameters = $10+2=12$. As shown above ReLU is used for intermediate activate function while for final layer sigmoid is used."
   ]
  },
  {
   "cell_type": "markdown",
   "metadata": {},
   "source": [
    "**K-fold cross validation**"
   ]
  },
  {
   "cell_type": "markdown",
   "metadata": {},
   "source": [
    "Cross-validation is a resampling procedure used to evaluate machine learning models on a limited data sample. The procedure has a single parameter called k that refers to the number of groups into which a given data sample is split. This means that each sample is given the opportunity to be used in the hold out set 1 time (which is generally used for hyperparameter tuning) and used to train the model k-1 times. If this k value is too large model will try to overfit on that data which leads to high variance also have high computational cost due to more folds while the original idea of doing this k-fold was to reduce the bias so our trained model can closely estimate the true value. Lower k value means model will have less variance and thus, more bias. Therefore, it won't be able to do good estimation of true value. So, one needs to find a sweet spot between those two by doing a hyper tuning analysis."
   ]
  },
  {
   "cell_type": "code",
   "execution_count": null,
   "metadata": {},
   "outputs": [],
   "source": []
  }
 ],
 "metadata": {
  "kernelspec": {
   "display_name": "torch_planet",
   "language": "python",
   "name": "torch_planet"
  },
  "language_info": {
   "codemirror_mode": {
    "name": "ipython",
    "version": 3
   },
   "file_extension": ".py",
   "mimetype": "text/x-python",
   "name": "python",
   "nbconvert_exporter": "python",
   "pygments_lexer": "ipython3",
   "version": "3.6.6"
  }
 },
 "nbformat": 4,
 "nbformat_minor": 2
}
